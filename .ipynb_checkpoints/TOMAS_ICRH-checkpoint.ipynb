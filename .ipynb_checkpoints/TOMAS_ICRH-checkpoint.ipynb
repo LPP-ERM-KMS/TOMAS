{
 "cells": [
  {
   "cell_type": "code",
   "execution_count": null,
   "id": "c78913d5-fb00-4a22-8d26-a6fa6239a3dd",
   "metadata": {},
   "outputs": [],
   "source": [
    "from ngsolve import *\n",
    "import netgen.geom2d as geom2d\n",
    "from ngsolve.webgui import Draw\n",
    "\n",
    "geo = geom2d.SplineGeometry() #Generate geometry object\n",
    "p2 = [geo.AppendPoint(x,y) for x,y in [(Rwall[ii_out][iwall][i],Zwall[ii_out][iwall][i]) for i in range(0,Rwall[ii_out][iwall].size)]]\n",
    "p1 = [geo.AppendPoint(x,y) for x,y in [(Rwall[ii][ilim][i],Zwall[ii][ilim][i]) for i in range(0,Rwall[ii][ilim].size)]]\n",
    "\n",
    "geo.Append([\"spline3\", p1[0], p1[1], p1[2]],bc='lim')\n",
    "geo.Append([\"line\", p1[2], p2[0]],bc='wall')\n",
    "[geo.Append ([\"line\", p2[i], p2[i+1]],bc='wall') for i in range(0,Rwall[ii_out][iwall].size-1)]\n",
    "geo.Append ([\"line\", p2[-1], p1[0]],bc='wall')\n",
    "\n",
    "mesh = Mesh(geo.GenerateMesh (maxh=0.16/4))\n",
    "Draw(mesh)"
   ]
  }
 ],
 "metadata": {
  "kernelspec": {
   "display_name": "Python 3 (ipykernel)",
   "language": "python",
   "name": "python3"
  },
  "language_info": {
   "codemirror_mode": {
    "name": "ipython",
    "version": 3
   },
   "file_extension": ".py",
   "mimetype": "text/x-python",
   "name": "python",
   "nbconvert_exporter": "python",
   "pygments_lexer": "ipython3",
   "version": "3.12.4"
  }
 },
 "nbformat": 4,
 "nbformat_minor": 5
}
